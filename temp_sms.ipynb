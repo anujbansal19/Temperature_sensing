{
 "cells": [
  {
   "cell_type": "code",
   "execution_count": 1,
   "id": "16cb8eb7",
   "metadata": {},
   "outputs": [],
   "source": [
    "import json,time,config"
   ]
  },
  {
   "cell_type": "code",
   "execution_count": 14,
   "id": "07f8e95f",
   "metadata": {},
   "outputs": [],
   "source": [
    "#config is the python file which contains some useful info. like DeviceID, API Key, SID, etc."
   ]
  },
  {
   "cell_type": "code",
   "execution_count": 2,
   "id": "c67791b2",
   "metadata": {},
   "outputs": [],
   "source": [
    "from boltiot import Sms,Bolt"
   ]
  },
  {
   "cell_type": "code",
   "execution_count": 13,
   "id": "7b54c057",
   "metadata": {},
   "outputs": [],
   "source": [
    "max_limit=60\n",
    "min_limit=30\n",
    "# Above 2 values are the limits in degree Celsius"
   ]
  },
  {
   "cell_type": "code",
   "execution_count": 8,
   "id": "68d48213",
   "metadata": {},
   "outputs": [],
   "source": [
    "mybolt=Bolt(config.API_KEY,config.DEVICE_ID)"
   ]
  },
  {
   "cell_type": "code",
   "execution_count": 9,
   "id": "b2d67479",
   "metadata": {},
   "outputs": [],
   "source": [
    "sms = Sms(config.SID, config.AUTH_TOKEN, config.TO_NUMBER, config.FROM_NUMBER)"
   ]
  },
  {
   "cell_type": "code",
   "execution_count": 12,
   "id": "a41cd40d",
   "metadata": {},
   "outputs": [
    {
     "name": "stdout",
     "output_type": "stream",
     "text": [
      "Reading sensor value\n",
      "Sensor value is: 326\n",
      "Reading sensor value\n",
      "Sensor value is: 308\n",
      "Reading sensor value\n",
      "Sensor value is: 273\n",
      "Making request to Twilio to send a SMS\n",
      "Response received from Twilio is: <Twilio.Api.V2010.MessageInstance account_sid=AC134a5a01817c0b016de78c9b8fe89f7c sid=SM28e4e12a7b6c4ce4b377e52e819609d4>\n",
      "Status of SMS at Twilio is :queued\n",
      "Reading sensor value\n",
      "Sensor value is: 235\n",
      "Making request to Twilio to send a SMS\n",
      "Response received from Twilio is: <Twilio.Api.V2010.MessageInstance account_sid=AC134a5a01817c0b016de78c9b8fe89f7c sid=SM05d19d5e82754400b088a5941c288979>\n",
      "Status of SMS at Twilio is :queued\n",
      "Reading sensor value\n",
      "Sensor value is: 206\n",
      "Making request to Twilio to send a SMS\n",
      "Response received from Twilio is: <Twilio.Api.V2010.MessageInstance account_sid=AC134a5a01817c0b016de78c9b8fe89f7c sid=SM3f6e2d3c44ac48118a0fdb86545237ed>\n",
      "Status of SMS at Twilio is :queued\n",
      "Reading sensor value\n",
      "Sensor value is: 241\n",
      "Making request to Twilio to send a SMS\n",
      "Response received from Twilio is: <Twilio.Api.V2010.MessageInstance account_sid=AC134a5a01817c0b016de78c9b8fe89f7c sid=SM3c1130cdd3da49a3952d38352bbb7b13>\n",
      "Status of SMS at Twilio is :queued\n",
      "Reading sensor value\n",
      "Sensor value is: 268\n",
      "Making request to Twilio to send a SMS\n",
      "Response received from Twilio is: <Twilio.Api.V2010.MessageInstance account_sid=AC134a5a01817c0b016de78c9b8fe89f7c sid=SM3da718879e714e6eaa1d27c52c024874>\n",
      "Status of SMS at Twilio is :queued\n",
      "Reading sensor value\n",
      "Sensor value is: 285\n",
      "Making request to Twilio to send a SMS\n",
      "Response received from Twilio is: <Twilio.Api.V2010.MessageInstance account_sid=AC134a5a01817c0b016de78c9b8fe89f7c sid=SMf763e8d64a774bb99e01c192f806cf07>\n",
      "Status of SMS at Twilio is :queued\n",
      "Reading sensor value\n",
      "Sensor value is: 294\n",
      "Making request to Twilio to send a SMS\n",
      "Response received from Twilio is: <Twilio.Api.V2010.MessageInstance account_sid=AC134a5a01817c0b016de78c9b8fe89f7c sid=SMfb61b91e62aa406ab2f4398ca9135cc7>\n",
      "Status of SMS at Twilio is :queued\n"
     ]
    },
    {
     "ename": "KeyboardInterrupt",
     "evalue": "",
     "output_type": "error",
     "traceback": [
      "\u001b[1;31m---------------------------------------------------------------------------\u001b[0m",
      "\u001b[1;31mKeyboardInterrupt\u001b[0m                         Traceback (most recent call last)",
      "\u001b[1;32m<ipython-input-12-7721bd8106c0>\u001b[0m in \u001b[0;36m<module>\u001b[1;34m\u001b[0m\n\u001b[0;32m     16\u001b[0m         \u001b[0mprint\u001b[0m \u001b[1;33m(\u001b[0m\u001b[1;34m\"Error occured: Below are the details\"\u001b[0m\u001b[1;33m)\u001b[0m\u001b[1;33m\u001b[0m\u001b[1;33m\u001b[0m\u001b[0m\n\u001b[0;32m     17\u001b[0m         \u001b[0mprint\u001b[0m \u001b[1;33m(\u001b[0m\u001b[0me\u001b[0m\u001b[1;33m)\u001b[0m\u001b[1;33m\u001b[0m\u001b[1;33m\u001b[0m\u001b[0m\n\u001b[1;32m---> 18\u001b[1;33m     \u001b[0mtime\u001b[0m\u001b[1;33m.\u001b[0m\u001b[0msleep\u001b[0m\u001b[1;33m(\u001b[0m\u001b[1;36m10\u001b[0m\u001b[1;33m)\u001b[0m\u001b[1;33m\u001b[0m\u001b[1;33m\u001b[0m\u001b[0m\n\u001b[0m",
      "\u001b[1;31mKeyboardInterrupt\u001b[0m: "
     ]
    }
   ],
   "source": [
    "while True: \n",
    "    print (\"Reading sensor value\")\n",
    "    response = mybolt.analogRead('A0') \n",
    "    data = json.loads(response) \n",
    "    print(\"Sensor value is: \" + str(data['value']))\n",
    "    try: \n",
    "        sensor_value = int(data['value']) \n",
    "        sensor_value2=sensor_value/10.24\n",
    "        #if sensor_value> max_limit or sensor_value<min_limit:\n",
    "        if sensor_value2 > max_limit or sensor_value2 < min_limit:\n",
    "            print(\"Making request to Twilio to send a SMS\")\n",
    "            response = sms.send_sms(\"The Current temperature sensor value is \" +str(sensor_value2)+\" degrees Celsius.\")\n",
    "            print(\"Response received from Twilio is: \" + str(response))\n",
    "            print(\"Status of SMS at Twilio is :\" + str(response.status))\n",
    "    except Exception as e: \n",
    "        print (\"Error occured: Below are the details\")\n",
    "        print (e)\n",
    "    time.sleep(10)"
   ]
  },
  {
   "cell_type": "code",
   "execution_count": null,
   "id": "3de4c9ff",
   "metadata": {},
   "outputs": [],
   "source": []
  }
 ],
 "metadata": {
  "kernelspec": {
   "display_name": "Python 3",
   "language": "python",
   "name": "python3"
  },
  "language_info": {
   "codemirror_mode": {
    "name": "ipython",
    "version": 3
   },
   "file_extension": ".py",
   "mimetype": "text/x-python",
   "name": "python",
   "nbconvert_exporter": "python",
   "pygments_lexer": "ipython3",
   "version": "3.8.8"
  }
 },
 "nbformat": 4,
 "nbformat_minor": 5
}
